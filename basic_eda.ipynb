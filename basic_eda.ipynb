{
 "cells": [
  {
   "cell_type": "markdown",
   "metadata": {},
   "source": [
    "# **Duplicate Question Pairs**"
   ]
  },
  {
   "cell_type": "markdown",
   "metadata": {},
   "source": [
    "### Basic EDA on dataset"
   ]
  },
  {
   "cell_type": "code",
   "execution_count": 1,
   "metadata": {},
   "outputs": [],
   "source": [
    "# importing libraries\n",
    "\n",
    "import pandas as pd\n",
    "import numpy as np\n",
    "import matplotlib.pyplot as plt"
   ]
  },
  {
   "cell_type": "code",
   "execution_count": 13,
   "metadata": {},
   "outputs": [
    {
     "data": {
      "text/html": [
       "<div>\n",
       "<style scoped>\n",
       "    .dataframe tbody tr th:only-of-type {\n",
       "        vertical-align: middle;\n",
       "    }\n",
       "\n",
       "    .dataframe tbody tr th {\n",
       "        vertical-align: top;\n",
       "    }\n",
       "\n",
       "    .dataframe thead th {\n",
       "        text-align: right;\n",
       "    }\n",
       "</style>\n",
       "<table border=\"1\" class=\"dataframe\">\n",
       "  <thead>\n",
       "    <tr style=\"text-align: right;\">\n",
       "      <th></th>\n",
       "      <th>id</th>\n",
       "      <th>qid1</th>\n",
       "      <th>qid2</th>\n",
       "      <th>question1</th>\n",
       "      <th>question2</th>\n",
       "      <th>is_duplicate</th>\n",
       "    </tr>\n",
       "  </thead>\n",
       "  <tbody>\n",
       "    <tr>\n",
       "      <th>107471</th>\n",
       "      <td>107471</td>\n",
       "      <td>75833</td>\n",
       "      <td>90870</td>\n",
       "      <td>Can anime exist in a different parallel universe?</td>\n",
       "      <td>Can anime exist in a parallel universe of some...</td>\n",
       "      <td>1</td>\n",
       "    </tr>\n",
       "    <tr>\n",
       "      <th>326896</th>\n",
       "      <td>326896</td>\n",
       "      <td>453269</td>\n",
       "      <td>453270</td>\n",
       "      <td>Do people who take pain in the name of God fin...</td>\n",
       "      <td>How do I stop feeling nervous when I am in a w...</td>\n",
       "      <td>0</td>\n",
       "    </tr>\n",
       "    <tr>\n",
       "      <th>103632</th>\n",
       "      <td>103632</td>\n",
       "      <td>171245</td>\n",
       "      <td>171246</td>\n",
       "      <td>Out of 29 states of India, Which is your favor...</td>\n",
       "      <td>Which state in India, apart from your home sta...</td>\n",
       "      <td>1</td>\n",
       "    </tr>\n",
       "    <tr>\n",
       "      <th>205239</th>\n",
       "      <td>205239</td>\n",
       "      <td>308328</td>\n",
       "      <td>308329</td>\n",
       "      <td>Who is Conor McGregor?</td>\n",
       "      <td>Why is conor McGregor retiring?</td>\n",
       "      <td>0</td>\n",
       "    </tr>\n",
       "    <tr>\n",
       "      <th>328496</th>\n",
       "      <td>328496</td>\n",
       "      <td>455040</td>\n",
       "      <td>343768</td>\n",
       "      <td>How can I recover deleted photos from app lock...</td>\n",
       "      <td>How can I recover deleted data from app lock?</td>\n",
       "      <td>1</td>\n",
       "    </tr>\n",
       "  </tbody>\n",
       "</table>\n",
       "</div>"
      ],
      "text/plain": [
       "            id    qid1    qid2  \\\n",
       "107471  107471   75833   90870   \n",
       "326896  326896  453269  453270   \n",
       "103632  103632  171245  171246   \n",
       "205239  205239  308328  308329   \n",
       "328496  328496  455040  343768   \n",
       "\n",
       "                                                question1  \\\n",
       "107471  Can anime exist in a different parallel universe?   \n",
       "326896  Do people who take pain in the name of God fin...   \n",
       "103632  Out of 29 states of India, Which is your favor...   \n",
       "205239                             Who is Conor McGregor?   \n",
       "328496  How can I recover deleted photos from app lock...   \n",
       "\n",
       "                                                question2  is_duplicate  \n",
       "107471  Can anime exist in a parallel universe of some...             1  \n",
       "326896  How do I stop feeling nervous when I am in a w...             0  \n",
       "103632  Which state in India, apart from your home sta...             1  \n",
       "205239                    Why is conor McGregor retiring?             0  \n",
       "328496      How can I recover deleted data from app lock?             1  "
      ]
     },
     "execution_count": 13,
     "metadata": {},
     "output_type": "execute_result"
    }
   ],
   "source": [
    "# importing dataset\n",
    "\n",
    "df = pd.read_csv('questions.csv')\n",
    "df.sample(5)"
   ]
  },
  {
   "cell_type": "code",
   "execution_count": 3,
   "metadata": {},
   "outputs": [
    {
     "data": {
      "text/plain": [
       "(363861, 6)"
      ]
     },
     "execution_count": 3,
     "metadata": {},
     "output_type": "execute_result"
    }
   ],
   "source": [
    "# checking shape of dataset\n",
    "\n",
    "df.shape"
   ]
  },
  {
   "cell_type": "code",
   "execution_count": 4,
   "metadata": {},
   "outputs": [
    {
     "name": "stdout",
     "output_type": "stream",
     "text": [
      "<class 'pandas.core.frame.DataFrame'>\n",
      "RangeIndex: 363861 entries, 0 to 363860\n",
      "Data columns (total 6 columns):\n",
      " #   Column        Non-Null Count   Dtype \n",
      "---  ------        --------------   ----- \n",
      " 0   id            363861 non-null  int64 \n",
      " 1   qid1          363861 non-null  int64 \n",
      " 2   qid2          363861 non-null  int64 \n",
      " 3   question1     363860 non-null  object\n",
      " 4   question2     363859 non-null  object\n",
      " 5   is_duplicate  363861 non-null  int64 \n",
      "dtypes: int64(4), object(2)\n",
      "memory usage: 16.7+ MB\n"
     ]
    }
   ],
   "source": [
    "# checking info of dataset\n",
    "\n",
    "df.info()"
   ]
  },
  {
   "cell_type": "code",
   "execution_count": 5,
   "metadata": {},
   "outputs": [
    {
     "data": {
      "text/plain": [
       "id              0\n",
       "qid1            0\n",
       "qid2            0\n",
       "question1       1\n",
       "question2       2\n",
       "is_duplicate    0\n",
       "dtype: int64"
      ]
     },
     "execution_count": 5,
     "metadata": {},
     "output_type": "execute_result"
    }
   ],
   "source": [
    "# checking for null values\n",
    "\n",
    "df.isnull().sum()"
   ]
  },
  {
   "cell_type": "code",
   "execution_count": 6,
   "metadata": {},
   "outputs": [
    {
     "data": {
      "text/plain": [
       "0"
      ]
     },
     "execution_count": 6,
     "metadata": {},
     "output_type": "execute_result"
    }
   ],
   "source": [
    "# checking for duplicate values\n",
    "\n",
    "df.duplicated().sum()"
   ]
  },
  {
   "cell_type": "code",
   "execution_count": 9,
   "metadata": {},
   "outputs": [
    {
     "name": "stdout",
     "output_type": "stream",
     "text": [
      "is_duplicate\n",
      "0    228686\n",
      "1    135175\n",
      "Name: count, dtype: int64\n"
     ]
    },
    {
     "data": {
      "text/plain": [
       "is_duplicate\n",
       "0    62.85\n",
       "1    37.15\n",
       "Name: count, dtype: float64"
      ]
     },
     "execution_count": 9,
     "metadata": {},
     "output_type": "execute_result"
    }
   ],
   "source": [
    "# checking counts of target variable\n",
    "\n",
    "print(df['is_duplicate'].value_counts())\n",
    "round((df['is_duplicate'].value_counts()/df['is_duplicate'].count())*100, 2)\n",
    "\n",
    "# data is quite imbalanced"
   ]
  },
  {
   "cell_type": "code",
   "execution_count": 11,
   "metadata": {},
   "outputs": [
    {
     "data": {
      "image/png": "[encoded data removed]",
      "text/plain": [
       "<Figure size 640x480 with 1 Axes>"
      ]
     },
     "metadata": {},
     "output_type": "display_data"
    }
   ],
   "source": [
    "# bar graph for target variable \n",
    "\n",
    "df['is_duplicate'].value_counts().plot(kind='bar')\n",
    "plt.ylabel(\"value counts\")\n",
    "plt.show()\n",
    "\n",
    "# data is imbalanced"
   ]
  },
  {
   "cell_type": "code",
   "execution_count": 15,
   "metadata": {},
   "outputs": [
    {
     "name": "stdout",
     "output_type": "stream",
     "text": [
      "Number of unique questions in data is  493889\n",
      "Number of repeated questions in data is  98895\n"
     ]
    }
   ],
   "source": [
    "# checking for repeated questions\n",
    "\n",
    "q_ids = pd.Series(df['qid1'].to_list() + df['qid2'].to_list())\n",
    "print('Number of unique questions in data is ', np.unique(q_ids).shape[0])\n",
    "repeated_q = q_ids.value_counts()>1\n",
    "print('Number of repeated questions in data is ', repeated_q[repeated_q].shape[0])"
   ]
  },
  {
   "cell_type": "code",
   "execution_count": 17,
   "metadata": {},
   "outputs": [
    {
     "data": {
      "image/png": "[encoded data removed]",
      "text/plain": [
       "<Figure size 640x480 with 1 Axes>"
      ]
     },
     "metadata": {},
     "output_type": "display_data"
    }
   ],
   "source": [
    "# plotting above obesrvations\n",
    "\n",
    "plt.hist(q_ids.value_counts(), bins=150)\n",
    "plt.yscale('log')\n",
    "plt.show()"
   ]
  }
 ],
 "metadata": {
  "kernelspec": {
   "display_name": "base",
   "language": "python",
   "name": "python3"
  },
  "language_info": {
   "codemirror_mode": {
    "name": "ipython",
    "version": 3
   },
   "file_extension": ".py",
   "mimetype": "text/x-python",
   "name": "python",
   "nbconvert_exporter": "python",
   "pygments_lexer": "ipython3",
   "version": "3.11.5"
  }
 },
 "nbformat": 4,
 "nbformat_minor": 2
}
